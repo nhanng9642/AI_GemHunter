{
 "cells": [
  {
   "cell_type": "code",
   "execution_count": 1,
   "metadata": {},
   "outputs": [],
   "source": [
    "from pysat import solvers\n",
    "from itertools import combinations"
   ]
  },
  {
   "cell_type": "markdown",
   "metadata": {},
   "source": [
    "Biến logic cho ô [x, y] của matrix(m, n) có giá trị tuyệt đối là x * n + y. Nếu dương là Trap, ngược là lại Gem\n",
    "\n",
    "Dễ dàng chứng minh được rằng: <br >\n",
    "Ít nhất m literals trong n literals là đúng khi và chỉ khi với mỗi bộ hoán vị có m - n + 1 literals, luôn có ít nhất 1 literal đúng"
   ]
  },
  {
   "cell_type": "code",
   "execution_count": 2,
   "metadata": {},
   "outputs": [],
   "source": [
    "def read_matrix(file_name):\n",
    "    with open(file_name) as f:\n",
    "        matrix = []\n",
    "        for line in f:\n",
    "            matrix.append([int(x) if x != '_' else x for x in line.strip().split()])\n",
    "    return matrix\n",
    "\n",
    "# Generate a clause that is true if and only if exactly n literals of the literals are true\n",
    "def generate_cnf_exactly_n(n, literals):\n",
    "    cnf = []\n",
    "    size = len(literals)\n",
    "\n",
    "    #At least n of the literals are true\n",
    "    for comb in combinations(literals, size - n + 1):\n",
    "        cnf.append(list(comb))\n",
    "\n",
    "    #At most n of the literals are true \n",
    "    #Equivalent to at least size-n+1 of the literals are false\n",
    "    for comb in combinations(literals, n+1):\n",
    "        cnf.append([-lit for lit in comb])\n",
    "\n",
    "    return cnf\n",
    "\n",
    "# Get no. cell of Trap and Gem around a cell\n",
    "def get_around(matrix, i, j):\n",
    "    m = len(matrix)\n",
    "    n = len(matrix[0])\n",
    "    move = [[-1, -1], [-1, 0], [-1, 1], [0, -1], [0, 1], [1, -1], [1, 0], [1, 1]]\n",
    "    around = []\n",
    "    for [x, y] in move:\n",
    "        if 0 <= i + x < m and 0 <= j + y < n and matrix[i + x][j + y] == '_':\n",
    "            around.append((i + x) * n + (j + y))\n",
    "\n",
    "    return around\n"
   ]
  },
  {
   "cell_type": "code",
   "execution_count": 3,
   "metadata": {},
   "outputs": [],
   "source": [
    "def generate_cnf(matrix):\n",
    "    m = len(matrix)\n",
    "    n = len(matrix[0])\n",
    "    cnf = []\n",
    "\n",
    "    for i in range(m):\n",
    "        for j in range(n):\n",
    "            if matrix[i][j] != '_':\n",
    "                around = get_around(matrix, i, j)\n",
    "                cnf_cell = generate_cnf_exactly_n(matrix[i][j], around)\n",
    "                \n",
    "                for clause in cnf_cell:\n",
    "                    if clause not in cnf:\n",
    "                        cnf.append(clause)\n",
    "\n",
    "    return cnf"
   ]
  },
  {
   "cell_type": "code",
   "execution_count": 4,
   "metadata": {},
   "outputs": [],
   "source": [
    "def solve_cnf_pysat(cnf):\n",
    "    solver = solvers.Glucose3()\n",
    "    for clause in cnf:\n",
    "        solver.add_clause(clause)\n",
    "\n",
    "    if solver.solve():\n",
    "        model = solver.get_model()\n",
    "        return model\n",
    "    \n",
    "    return None"
   ]
  },
  {
   "cell_type": "code",
   "execution_count": 5,
   "metadata": {},
   "outputs": [],
   "source": [
    "def solve_cnf_my_solution(cnf):\n",
    "    #TODO: Implement own cnfs solver\n",
    "    return None"
   ]
  },
  {
   "cell_type": "code",
   "execution_count": 6,
   "metadata": {},
   "outputs": [],
   "source": [
    "def solve_cnf_brute_force(cnf):\n",
    "    #TODO: Implement a brute force cnf solver\n",
    "    return None"
   ]
  },
  {
   "cell_type": "code",
   "execution_count": 7,
   "metadata": {},
   "outputs": [],
   "source": [
    "def solve_cnf_back_tracking(cnf):\n",
    "    #TODO: Implement a backtracking cnf solver\n",
    "    return None"
   ]
  },
  {
   "cell_type": "code",
   "execution_count": 8,
   "metadata": {},
   "outputs": [],
   "source": [
    "import copy\n",
    "def write_solution(model, matrix, output_file):\n",
    "    matrix_copy = []\n",
    "    m = len(matrix[0])\n",
    "    if model is not None:\n",
    "        matrix_copy = copy.deepcopy(matrix)\n",
    "        for x in model:\n",
    "            y = x if x > 0 else -x\n",
    "            if matrix_copy[y // m][y % m] == '_':\n",
    "                matrix_copy[y // m][y % m] = 'T' if x > 0 else 'G'\n",
    "    \n",
    "    with open(output_file, 'w') as f:\n",
    "        for row in matrix_copy:\n",
    "            f.write(' '.join(str(x) for x in row) + '\\n')"
   ]
  },
  {
   "cell_type": "code",
   "execution_count": 9,
   "metadata": {},
   "outputs": [
    {
     "name": "stdout",
     "output_type": "stream",
     "text": [
      "Test 0: input0.txt\n",
      "solve_cnf_pysat: 0.00056028s\n",
      "solve_cnf_my_solution: 0.00000143s\n",
      "solve_cnf_brute_force: 0.00000143s\n",
      "solve_cnf_back_tracking: 0.00000095s\n",
      "\n",
      "Test 1: input1.txt\n",
      "solve_cnf_pysat: 0.00021839s\n",
      "solve_cnf_my_solution: 0.00000215s\n",
      "solve_cnf_brute_force: 0.00000143s\n",
      "solve_cnf_back_tracking: 0.00000143s\n",
      "\n"
     ]
    }
   ],
   "source": [
    "import os\n",
    "import time\n",
    "\n",
    "folder_path_input = 'testcases/input'\n",
    "\n",
    "folder_path_output = ['output-pysat', 'output-my-solution', 'output-brute-force', 'output-back-tracking']\n",
    "functions_solve_cnf = [solve_cnf_pysat, solve_cnf_my_solution, solve_cnf_brute_force, solve_cnf_back_tracking]\n",
    "\n",
    "num_functions = len(functions_solve_cnf)\n",
    "\n",
    "for index, file_name in enumerate(os.listdir(folder_path_input)):\n",
    "    print(f\"Test {index}: {file_name}\")\n",
    "    for i in range(num_functions):\n",
    "        matrix = read_matrix(os.path.join(folder_path_input, file_name))\n",
    "        cnf = generate_cnf(matrix)\n",
    "\n",
    "        start_time = time.time()    \n",
    "        model = functions_solve_cnf[i](cnf)\n",
    "        end_time = time.time()\n",
    "        print(f\"{functions_solve_cnf[i].__name__}: {end_time - start_time:.8f}s\")\n",
    "\n",
    "        write_solution(model, matrix,\n",
    "                        os.path.join(\"testcases\", folder_path_output[i], f\"output{index}.txt\"))\n",
    "    print()"
   ]
  }
 ],
 "metadata": {
  "kernelspec": {
   "display_name": "Python 3",
   "language": "python",
   "name": "python3"
  },
  "language_info": {
   "codemirror_mode": {
    "name": "ipython",
    "version": 3
   },
   "file_extension": ".py",
   "mimetype": "text/x-python",
   "name": "python",
   "nbconvert_exporter": "python",
   "pygments_lexer": "ipython3",
   "version": "3.10.12"
  }
 },
 "nbformat": 4,
 "nbformat_minor": 2
}
